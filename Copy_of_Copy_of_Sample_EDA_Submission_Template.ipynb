{
  "nbformat": 4,
  "nbformat_minor": 0,
  "metadata": {
    "colab": {
      "private_outputs": true,
      "provenance": [],
      "collapsed_sections": [
        "vncDsAP0Gaoa",
        "FJNUwmbgGyua",
        "w6K7xa23Elo4",
        "yQaldy8SH6Dl",
        "PH-0ReGfmX4f",
        "mDgbUHAGgjLW",
        "O_i_v8NEhb9l",
        "HhfV-JJviCcP",
        "Y3lxredqlCYt",
        "3RnN4peoiCZX",
        "x71ZqKXriCWQ",
        "7hBIi_osiCS2",
        "JlHwYmJAmNHm",
        "35m5QtbWiB9F",
        "PoPl-ycgm1ru",
        "H0kj-8xxnORC",
        "nA9Y7ga8ng1Z",
        "PBTbrJXOngz2",
        "u3PMJOP6ngxN",
        "dauF4eBmngu3",
        "bKJF3rekwFvQ",
        "MSa1f5Uengrz",
        "GF8Ens_Soomf",
        "0wOQAZs5pc--",
        "K5QZ13OEpz2H",
        "lQ7QKXXCp7Bj",
        "448CDAPjqfQr",
        "KSlN3yHqYklG",
        "t6dVpIINYklI",
        "ijmpgYnKYklI",
        "-JiQyfWJYklI",
        "EM7whBJCYoAo",
        "fge-S5ZAYoAp",
        "85gYPyotYoAp",
        "RoGjAbkUYoAp",
        "4Of9eVA-YrdM",
        "iky9q4vBYrdO",
        "F6T5p64dYrdO",
        "y-Ehk30pYrdP",
        "bamQiAODYuh1",
        "QHF8YVU7Yuh3",
        "GwzvFGzlYuh3",
        "qYpmQ266Yuh3",
        "OH-pJp9IphqM",
        "bbFf2-_FphqN",
        "_ouA3fa0phqN",
        "Seke61FWphqN",
        "PIIx-8_IphqN",
        "t27r6nlMphqO",
        "r2jJGEOYphqO",
        "b0JNsNcRphqO",
        "BZR9WyysphqO",
        "jj7wYXLtphqO",
        "eZrbJ2SmphqO",
        "rFu4xreNphqO",
        "YJ55k-q6phqO",
        "gCFgpxoyphqP",
        "OVtJsKN_phqQ",
        "lssrdh5qphqQ",
        "U2RJ9gkRphqQ",
        "1M8mcRywphqQ",
        "tgIPom80phqQ",
        "JMzcOPDDphqR",
        "x-EpHcCOp1ci",
        "X_VqEhTip1ck",
        "8zGJKyg5p1ck",
        "PVzmfK_Ep1ck",
        "n3dbpmDWp1ck",
        "ylSl6qgtp1ck",
        "ZWILFDl5p1ck",
        "M7G43BXep1ck",
        "Ag9LCva-p1cl",
        "E6MkPsBcp1cl",
        "2cELzS2fp1cl",
        "3MPXvC8up1cl",
        "NC_X3p0fY2L0",
        "UV0SzAkaZNRQ",
        "YPEH6qLeZNRQ",
        "q29F0dvdveiT",
        "EXh0U9oCveiU",
        "22aHeOlLveiV",
        "JcMwzZxoAimU",
        "8G2x9gOozGDZ",
        "gCX9965dhzqZ",
        "gIfDvo9L0UH2"
      ],
      "include_colab_link": true
    },
    "kernelspec": {
      "name": "python3",
      "display_name": "Python 3"
    },
    "language_info": {
      "name": "python"
    }
  },
  "cells": [
    {
      "cell_type": "markdown",
      "metadata": {
        "id": "view-in-github",
        "colab_type": "text"
      },
      "source": [
        "<a href=\"https://colab.research.google.com/github/RohanxDutta/EDA-Hotel-Booking-Analysis/blob/main/Copy_of_Copy_of_Sample_EDA_Submission_Template.ipynb\" target=\"_parent\"><img src=\"https://colab.research.google.com/assets/colab-badge.svg\" alt=\"Open In Colab\"/></a>"
      ]
    },
    {
      "cell_type": "markdown",
      "source": [
        "# **Project Name**    -\n",
        "\n"
      ],
      "metadata": {
        "id": "vncDsAP0Gaoa"
      }
    },
    {
      "cell_type": "markdown",
      "source": [
        "##### **Project Type**    - EDA/AirBnb Booking Analysis\n",
        "##### **Contribution**    - Individual\n",
        "##### **Name**           - Rohan Dutta\n"
      ],
      "metadata": {
        "id": "beRrZCGUAJYm"
      }
    },
    {
      "cell_type": "markdown",
      "source": [
        "# **Project Summary -**"
      ],
      "metadata": {
        "id": "FJNUwmbgGyua"
      }
    },
    {
      "cell_type": "markdown",
      "source": [
        "The analysis of the AirBnb datset have revealed valuable insights into various aspect of listings in New York City. The majority of the lsitings are in the \"Entire home/apt\" and \"Private Room\" categories indicating preference for privacy and independence. Manhattan and Brooklyn are the most popular neighbourhood with higher price and longer minimum stay requrirements compared to other areas. The analysis has also highlighted the importance of pricing and availability, with variations based on room types and neighbourhoods. Geographical analysis had identified specific regions with higher prices and longer minimum stay requirement, providing guidance for selecting suitable accomodations.\n",
        "\n",
        "Based on these insights, several solutions have been purposed to address the business problems. These include the refining price strategies promoting underrepresented nieghbourhoods, enhancing search filter and user interface and improving guest experience. The findings also emphasize the significance of data-driven decision making and collaborations with local authorities to optimize operations and comply with regulations. By leveraging these insight, AirBnb can enhance the user experience attarct more host and guests and improve overall business performance in competetive short-term rental market in New York City."
      ],
      "metadata": {
        "id": "F6v_1wHtG2nS"
      }
    },
    {
      "cell_type": "markdown",
      "source": [
        "# **GitHub Link -**"
      ],
      "metadata": {
        "id": "w6K7xa23Elo4"
      }
    },
    {
      "cell_type": "markdown",
      "source": [],
      "metadata": {
        "id": "h1o69JH3Eqqn"
      }
    },
    {
      "cell_type": "markdown",
      "source": [
        "# **Problem Statement**\n"
      ],
      "metadata": {
        "id": "yQaldy8SH6Dl"
      }
    },
    {
      "cell_type": "markdown",
      "source": [
        "**Performing Exploratory Data Analysis (EDA) on the AirBnb dataset poses several challenges due to its vast size, comprising millions of listings. Effective startegies are required to  process and analyze the this extensive dataset to extract valuable insights and pattern. The goal is to uncover trends, patterns and key features of the data to enhance decision-making and improve the eoverall AirBnb experience for host and user.**"
      ],
      "metadata": {
        "id": "DpeJGUA3kjGy"
      }
    },
    {
      "cell_type": "markdown",
      "source": [
        "#### **Define Your Business Objective?**"
      ],
      "metadata": {
        "id": "PH-0ReGfmX4f"
      }
    },
    {
      "cell_type": "markdown",
      "source": [
        "The objective of this project is to extract Valuable insight and patterns from the AirBnb dataset through dataset analysis techniques. By examining the factor such as trends, geographical distribution, popular amenities and more, we aim to gain a deeper understanding of various aspects related to AirBnb listings. The analysis will facilitate informed business decisions, enhance user experiences, and improve the overall performance of AirBnb as service."
      ],
      "metadata": {
        "id": "PhDvGCAqmjP1"
      }
    },
    {
      "cell_type": "markdown",
      "source": [
        "# **General Guidelines** : -  "
      ],
      "metadata": {
        "id": "mDgbUHAGgjLW"
      }
    },
    {
      "cell_type": "markdown",
      "source": [
        "1.   Well-structured, formatted, and commented code is required.\n",
        "2.   Exception Handling, Production Grade Code & Deployment Ready Code will be a plus. Those students will be awarded some additional credits.\n",
        "     \n",
        "     The additional credits will have advantages over other students during Star Student selection.\n",
        "       \n",
        "             [ Note: - Deployment Ready Code is defined as, the whole .ipynb notebook should be executable in one go\n",
        "                       without a single error logged. ]\n",
        "\n",
        "3.   Each and every logic should have proper comments.\n",
        "4. You may add as many number of charts you want. Make Sure for each and every chart the following format should be answered.\n",
        "        \n",
        "\n",
        "```\n",
        "# Chart visualization code\n",
        "```\n",
        "            \n",
        "\n",
        "*   Why did you pick the specific chart?\n",
        "*   What is/are the insight(s) found from the chart?\n",
        "* Will the gained insights help creating a positive business impact?\n",
        "Are there any insights that lead to negative growth? Justify with specific reason.\n",
        "\n",
        "5. You have to create at least 20 logical & meaningful charts having important insights.\n",
        "\n",
        "\n",
        "[ Hints : - Do the Vizualization in  a structured way while following \"UBM\" Rule.\n",
        "\n",
        "U - Univariate Analysis,\n",
        "\n",
        "B - Bivariate Analysis (Numerical - Categorical, Numerical - Numerical, Categorical - Categorical)\n",
        "\n",
        "M - Multivariate Analysis\n",
        " ]\n",
        "\n",
        "\n",
        "\n"
      ],
      "metadata": {
        "id": "ZrxVaUj-hHfC"
      }
    },
    {
      "cell_type": "markdown",
      "source": [
        "# ***Let's Begin !***"
      ],
      "metadata": {
        "id": "O_i_v8NEhb9l"
      }
    },
    {
      "cell_type": "markdown",
      "source": [
        "## ***1. Know Your Data***"
      ],
      "metadata": {
        "id": "HhfV-JJviCcP"
      }
    },
    {
      "cell_type": "markdown",
      "source": [
        "### Import Libraries"
      ],
      "metadata": {
        "id": "Y3lxredqlCYt"
      }
    },
    {
      "cell_type": "code",
      "source": [
        "# Import Libraries\n",
        "import numpy as np\n",
        "import pandas as pd\n",
        "import matplotlib.pyplot as plt\n",
        "import seaborn as sns\n",
        "import plotly.express as px\n",
        "import missingno as msn\n",
        "import folium\n",
        "import warnings"
      ],
      "metadata": {
        "id": "M8Vqi-pPk-HR"
      },
      "execution_count": null,
      "outputs": []
    },
    {
      "cell_type": "code",
      "source": [
        "from google.colab import drive\n",
        "drive.mount('/content/drive')"
      ],
      "metadata": {
        "id": "YRilpW7RYQWo"
      },
      "execution_count": null,
      "outputs": []
    },
    {
      "cell_type": "markdown",
      "source": [
        "### Dataset Loading"
      ],
      "metadata": {
        "id": "3RnN4peoiCZX"
      }
    },
    {
      "cell_type": "code",
      "source": [
        "# Load Dataset\n",
        "df = pd.read_csv('/content/Airbnb NYC 2019.csv')"
      ],
      "metadata": {
        "id": "4CkvbW_SlZ_R"
      },
      "execution_count": null,
      "outputs": []
    },
    {
      "cell_type": "markdown",
      "source": [
        "### Dataset First View"
      ],
      "metadata": {
        "id": "x71ZqKXriCWQ"
      }
    },
    {
      "cell_type": "code",
      "source": [
        "# Dataset First Look\n",
        "df.head().style.background_gradient(cmap='cool')"
      ],
      "metadata": {
        "id": "LWNFOSvLl09H"
      },
      "execution_count": null,
      "outputs": []
    },
    {
      "cell_type": "markdown",
      "source": [
        "### Dataset Rows & Columns count"
      ],
      "metadata": {
        "id": "7hBIi_osiCS2"
      }
    },
    {
      "cell_type": "code",
      "source": [
        "# Dataset Rows & Columns count\n",
        "num_rows = df.shape[0]\n",
        "num_columns = df.shape[1]\n",
        "\n",
        "print(\"Dataset Rows count:\", num_rows)\n",
        "print(\"Dataset Columns count:\", num_columns)"
      ],
      "metadata": {
        "id": "Kllu7SJgmLij"
      },
      "execution_count": null,
      "outputs": []
    },
    {
      "cell_type": "markdown",
      "source": [
        "### Dataset Information"
      ],
      "metadata": {
        "id": "JlHwYmJAmNHm"
      }
    },
    {
      "cell_type": "code",
      "source": [
        "# Dataset Info\n",
        "df.info()"
      ],
      "metadata": {
        "id": "e9hRXRi6meOf"
      },
      "execution_count": null,
      "outputs": []
    },
    {
      "cell_type": "markdown",
      "source": [
        "#### Duplicate Values"
      ],
      "metadata": {
        "id": "35m5QtbWiB9F"
      }
    },
    {
      "cell_type": "code",
      "source": [
        "# Dataset Duplicate Value Count\n",
        "d = df.duplicated().sum()\n",
        "print(f'Dataset Duplicate Value Count is {d}')"
      ],
      "metadata": {
        "id": "1sLdpKYkmox0"
      },
      "execution_count": null,
      "outputs": []
    },
    {
      "cell_type": "markdown",
      "source": [
        "#### Missing Values/Null Values"
      ],
      "metadata": {
        "id": "PoPl-ycgm1ru"
      }
    },
    {
      "cell_type": "code",
      "source": [
        "# Missing Values/Null Values Count\n",
        "df.isnull().sum().sort_values(ascending = False)"
      ],
      "metadata": {
        "id": "GgHWkxvamxVg"
      },
      "execution_count": null,
      "outputs": []
    },
    {
      "cell_type": "code",
      "source": [
        "# Visualizing the missing values\n",
        "msn.bar(df,color='cyan')"
      ],
      "metadata": {
        "id": "3q5wnI3om9sJ"
      },
      "execution_count": null,
      "outputs": []
    },
    {
      "cell_type": "markdown",
      "source": [
        "### What did you know about your dataset?"
      ],
      "metadata": {
        "id": "H0kj-8xxnORC"
      }
    },
    {
      "cell_type": "markdown",
      "source": [
        "Duplicate Values: The dataset does not contain any duplicate values. This implies that each row in dataset represents a unique record.\n",
        "\n",
        "Missing Values: Some columns have missing values. The column 'name', 'host_name', 'last_review', and 'review_per_month' have missing values, as indicated by the count of non-null values being less than the total number of rows. These missing values may need to be handeled appropriately depending on the specific analysis or use case.\n",
        "\n",
        "Data Types: The dataset contains the mixing of data types. It includes integer, float and object (string) data types. The data types provide information about the nature of the variables and can help determine appropriate statistical or analytics techniques for further analysis."
      ],
      "metadata": {
        "id": "gfoNAAC-nUe_"
      }
    },
    {
      "cell_type": "markdown",
      "source": [
        "## ***2. Understanding Your Variables***"
      ],
      "metadata": {
        "id": "nA9Y7ga8ng1Z"
      }
    },
    {
      "cell_type": "code",
      "source": [
        "# Dataset Columns\n",
        "df.columns"
      ],
      "metadata": {
        "id": "j7xfkqrt5Ag5"
      },
      "execution_count": null,
      "outputs": []
    },
    {
      "cell_type": "code",
      "source": [
        "# Dataset Describe\n",
        "df.describe()"
      ],
      "metadata": {
        "id": "DnOaZdaE5Q5t"
      },
      "execution_count": null,
      "outputs": []
    },
    {
      "cell_type": "markdown",
      "source": [
        "### Observations\n",
        "\n",
        "\n",
        "*   The dataset contains 48,89 AirBnb listings.\n",
        "*   Average price of the listings is 152.72, with a minimum price & 10,000 is maximum price\n",
        "*   The average minimum nigyhts required for a stay is appropriately 7, with min. of 1 night and max. of 1250 nights.\n",
        "*   The average number of reviews per month is 23.27, with a min of 0 and a max of 629.  \n",
        "*   These observations provide insights into the price range, min stay requirements and so on in the datasets. Further analysis and visualization can uncover more patterns and trends in the data.\n",
        "\n",
        "\n",
        "\n",
        "\n",
        "\n",
        "\n"
      ],
      "metadata": {
        "id": "PBTbrJXOngz2"
      }
    },
    {
      "cell_type": "markdown",
      "source": [
        "### Variables Description"
      ],
      "metadata": {
        "id": "aJV4KIxSnxay"
      }
    },
    {
      "cell_type": "markdown",
      "source": [
        "\n",
        "\n",
        "*   id: Listing ID(int64)\n",
        "\n",
        "*   name: Name of the listing(object)\n",
        "\n",
        "*   host_id: host ID(int64)\n",
        "\n",
        "*   host_name: name of the host(objet)\n",
        "\n",
        "*   nieghbourhood_group: area(object)\n",
        "\n",
        "*   latitude: latitude co-ordinates(float64)\n",
        "\n",
        "*   longitude: longitude co-ordinates(float64)\n",
        "\n",
        "*   room_type: listing space type(object)\n",
        "\n",
        "*   price: price in dollars(int64)\n",
        "\n",
        "*   minimum_nights: amount of nights in days(int64)\n",
        "\n",
        "*   number_of_reviews: number of reviews (int64)\n",
        "\n",
        "*   last_review: latest review(object)\n",
        "\n",
        "*   reviews_per_month: number of review per month(float64)\n",
        "\n",
        "*   calculated_host_listings_count: amount of listings per host(int64)\n",
        "\n",
        "*   availablity_365: number of days when listing is available(int64)\n",
        "\n",
        "\n",
        "\n",
        "\n",
        "\n",
        "\n",
        "\n",
        "\n"
      ],
      "metadata": {
        "id": "EfPRO54TriH6"
      }
    },
    {
      "cell_type": "markdown",
      "source": [
        "### Check Unique Values for each variable."
      ],
      "metadata": {
        "id": "u3PMJOP6ngxN"
      }
    },
    {
      "cell_type": "code",
      "source": [
        "# Check Unique Values for each variable.\n",
        "def unique_values(x):\n",
        "  return df[x].unique()\n",
        "for i in df:\n",
        "  if i == 'neighbourbood' or i == 'reviews_per_month' or i == 'price':\n",
        "    continue\n",
        "else:\n",
        "  print('-'*50)\n",
        "  print(''*50)\n",
        "  print('unique values of',i)\n",
        "  print(unique_values(i))\n",
        "  print('-'*50)\n",
        "  print('-'*50)"
      ],
      "metadata": {
        "id": "zms12Yq5n-jE"
      },
      "execution_count": null,
      "outputs": []
    },
    {
      "cell_type": "markdown",
      "source": [
        "## 3. ***Data Wrangling***"
      ],
      "metadata": {
        "id": "dauF4eBmngu3"
      }
    },
    {
      "cell_type": "markdown",
      "source": [
        "### Data Wrangling Code"
      ],
      "metadata": {
        "id": "bKJF3rekwFvQ"
      }
    },
    {
      "cell_type": "code",
      "source": [
        "# Write your code to make your dataset analysis ready.\n",
        "df.dropna(inplace = True) #drop all the NaN/Null/Missings values."
      ],
      "metadata": {
        "id": "wk-9a2fpoLcV"
      },
      "execution_count": null,
      "outputs": []
    },
    {
      "cell_type": "markdown",
      "source": [
        "### What all manipulations have you done and insights you found?"
      ],
      "metadata": {
        "id": "MSa1f5Uengrz"
      }
    },
    {
      "cell_type": "markdown",
      "source": [
        "*   Data Cleaning:\n",
        "Removing null, NaN, or missing values is a crucial step in data cleaning. By eliminating these values, the dataset becomes more consistent and suitable for analysis.\n",
        "\n",
        "*   Data Size Reduction:\n",
        "Removing rows or columns with null or missing values reduces the overall size of the dataset. This can be beneficial for computational efficiency and memory usage.\n"
      ],
      "metadata": {
        "id": "LbyXE7I1olp8"
      }
    },
    {
      "cell_type": "markdown",
      "source": [
        "## ***4. Data Vizualization, Storytelling & Experimenting with charts : Understand the relationships between variables***"
      ],
      "metadata": {
        "id": "GF8Ens_Soomf"
      }
    },
    {
      "cell_type": "markdown",
      "source": [
        "#### Chart - 1"
      ],
      "metadata": {
        "id": "0wOQAZs5pc--"
      }
    },
    {
      "cell_type": "code",
      "source": [
        "# Chart - 1 visualization code\n",
        "# Distribution chart of dataset\n",
        "# setting figure size\n",
        "figure = plt.figure(figsize=(15,10))\n",
        "# setting the axis\n",
        "ax = figure.gca()\n",
        "# creating the chart\n",
        "df.hist(ax = ax, color = 'green')\n",
        "# setting tittle and parameters\n",
        "plt.title('Histogram of df features', fontsize = 15)\n",
        "plt.xlabel('Value', fontsize = 12)\n",
        "plt.ylabel('Frequency', fontsize = 12)\n",
        "# display the figure\n",
        "plt.show()"
      ],
      "metadata": {
        "id": "7v_ESjsspbW7"
      },
      "execution_count": null,
      "outputs": []
    },
    {
      "cell_type": "markdown",
      "source": [
        "#### Chart - 2"
      ],
      "metadata": {
        "id": "KSlN3yHqYklG"
      }
    },
    {
      "cell_type": "code",
      "source": [
        "# Chart - 2 visualization code\n",
        "# Distribution by room type\n",
        "# Setting chart size\n",
        "plt.figure(figsize = (10,6))\n",
        "# setting data for chart creation\n",
        "room_type_counts = df['room_type'].value_counts()\n",
        "# Setting additional parameter\n",
        "explode = (0.05, 0., 0.)\n",
        "# Creating the chart\n",
        "plt.pie(room_type_counts, labels = room_type_counts.index, autopct='%1.1f%%', explode = explode)\n",
        "plt.axis('equal')\n",
        "# Setting the title\n",
        "plt.title('Room Types')\n",
        "# Display the chart\n",
        "plt.show()"
      ],
      "metadata": {
        "id": "R4YgtaqtYklH"
      },
      "execution_count": null,
      "outputs": []
    },
    {
      "cell_type": "markdown",
      "source": [
        "## Observations"
      ],
      "metadata": {
        "id": "0cYn9QCUUVEX"
      }
    },
    {
      "cell_type": "markdown",
      "source": [
        "*   Dominant Categories: The majority of listings fall into two main categories - 'Entire Home/ Apt.' and 'Pvt. Room'. 'Entire Home/Apt.' has the highest count of 52% listings, followed by 'Pvt. Room' with 47.5% listings.\n",
        "\n",
        "*   Limited Shared Rooms: The count for 'Shared Rooms' listings is relatively low, with only 2.4% listings. This indicates that shared accomodations are less common in  the dataset.\n",
        "\n",
        "*   Preferance for Privacy: The higher counts of 'Entire Room/Apt.' and 'Pvt Room'suggest that guests tend to prefer accomodations that offer more privacy and indpendence.\n",
        "\n",
        "This insights summarize the distribution of the room types and highlighted teh preference for privacy and independent accomodations in the datasets.\n",
        "\n",
        "\n",
        "\n"
      ],
      "metadata": {
        "id": "QEp5YDOnUXNx"
      }
    },
    {
      "cell_type": "markdown",
      "source": [
        "#### Chart - 3"
      ],
      "metadata": {
        "id": "EM7whBJCYoAo"
      }
    },
    {
      "cell_type": "code",
      "source": [
        "# Chart - 3 visualization code\n",
        "# Countplot of Neighbourhood group\n",
        "# Set the figure size\n",
        "plt.figure(figsize= (15,3))\n",
        "# Creating chart\n",
        "ax = sns.countplot(data = df, x = 'neighbourhood_group')\n",
        "# Setting labels\n",
        "ax.set_xlabel('Neighbourhod Group')\n",
        "ax.set_ylabel('Count')\n",
        "# Displaying the chart\n",
        "plt.show()"
      ],
      "metadata": {
        "id": "t6GMdE67YoAp"
      },
      "execution_count": null,
      "outputs": []
    },
    {
      "cell_type": "markdown",
      "source": [
        "## Observations"
      ],
      "metadata": {
        "id": "elmhUlbRXlOj"
      }
    },
    {
      "cell_type": "markdown",
      "source": [
        "*   Manhattan and Brooklyn are the most represented neighbourhood groups, with 21,652 and 20,098 listings, respective.\n",
        "\n",
        "*   Queens, Staten Island and Bronx have fewer listings, with 5,666, 373 and 1,090 listings resp.\n",
        "\n",
        "*   Manhattan and Brooklyn are popular choices for AirBnb listings, potentially due to their attractions and demand for short-term rentals.\n",
        "\n",
        "These insight highlight teh dominance of Manhttan and Brooklyn in the dataset, the relatively lower representation of Queens, Bronx and Staten Island and the popularity of accomodations in Manhattan and Brooklyn for AirBnb listings in the New York City.\n",
        "\n",
        "\n",
        "\n"
      ],
      "metadata": {
        "id": "ozFl6HJXXuP1"
      }
    },
    {
      "cell_type": "markdown",
      "source": [
        "#### Chart - 4"
      ],
      "metadata": {
        "id": "4Of9eVA-YrdM"
      }
    },
    {
      "cell_type": "code",
      "source": [
        "# Chart - 4 visualization code\n",
        "# Hisplot of Reviews per month\n",
        "# Set figure size\n",
        "plt.figure(figsize= (10,4))\n",
        "# Creating the chart\n",
        "sns.histplot(data=df, x = 'reviews_per_month',bins = 60)\n",
        "plt.xlabel('reviews_per_month')\n",
        "plt.ylabel('Density')\n",
        "plt.title('Reviews Per Month')\n",
        "# Displaying the Chart\n",
        "plt.show()"
      ],
      "metadata": {
        "id": "irlUoxc8YrdO"
      },
      "execution_count": null,
      "outputs": []
    },
    {
      "cell_type": "markdown",
      "source": [
        "## Observations"
      ],
      "metadata": {
        "id": "Ygk3lGhCaaQN"
      }
    },
    {
      "cell_type": "markdown",
      "source": [
        "Majority of reviews are nearly 1 and 90 percent of the data is falling below 5."
      ],
      "metadata": {
        "id": "_7A7JX54ab9L"
      }
    },
    {
      "cell_type": "markdown",
      "source": [
        "#### Chart - 5"
      ],
      "metadata": {
        "id": "bamQiAODYuh1"
      }
    },
    {
      "cell_type": "code",
      "source": [
        "# Chart - 5 visualization code\n",
        "# KDE plot for Distribution of price\n",
        "# Setting chart size\n",
        "plt.figure(figsize= (10,6))\n",
        "# creating violin plot\n",
        "sns.violinplot(data = df, x = 'price', color ='deepskyblue')\n",
        "# Setting labels and other parameters\n",
        "plt.xlabel('Price')\n",
        "plt.ylabel('Density')\n",
        "plt.title('Price Distribution')\n",
        "# Display the plot\n",
        "plt.show()"
      ],
      "metadata": {
        "id": "TIJwrbroYuh3"
      },
      "execution_count": null,
      "outputs": []
    },
    {
      "cell_type": "code",
      "source": [
        "# mode of price\n",
        "df['price'].mean(),df['price'].mode(),df['price'].median()"
      ],
      "metadata": {
        "id": "KZZiJmVS-NCA"
      },
      "execution_count": null,
      "outputs": []
    },
    {
      "cell_type": "markdown",
      "source": [
        "#### Chart - 6"
      ],
      "metadata": {
        "id": "OH-pJp9IphqM"
      }
    },
    {
      "cell_type": "code",
      "source": [
        "# Chart - 6 visualization code\n",
        "# Displot the last reviews\n",
        "# Setting the chart\n",
        "plt.figure(figsize=(10,8))\n",
        "# Creating Charts\n",
        "sns.displot(data=df, x= 'last_review', bins=10, color = 'green')\n",
        "# Setting labels and parameters\n",
        "plt.xlabel('last_review')\n",
        "plt.ylabel('Density')\n",
        "plt.title('Last Review Distribution')\n",
        "# Display the Chart\n",
        "plt.show()"
      ],
      "metadata": {
        "id": "kuRf4wtuphqN"
      },
      "execution_count": null,
      "outputs": []
    },
    {
      "cell_type": "markdown",
      "source": [
        "#### Chart - 7"
      ],
      "metadata": {
        "id": "PIIx-8_IphqN"
      }
    },
    {
      "cell_type": "code",
      "source": [
        "# Chart - 7 visualization code\n",
        "# Bar plot for availability 365 and room type\n",
        "# Setting chart size\n",
        "plt.figure(figsize=(8,4))\n",
        "# Creating charts\n",
        "sns.barplot(x='availability_365', y= 'room_type', data = df)\n",
        "# setting label and parameters\n",
        "plt.xlabel('availability 365')\n",
        "plt.ylabel('room type')\n",
        "plt.title('Availability 365 for Room Type')\n",
        "# Display the chart\n",
        "plt.show()"
      ],
      "metadata": {
        "id": "lqAIGUfyphqO"
      },
      "execution_count": null,
      "outputs": []
    },
    {
      "cell_type": "markdown",
      "source": [
        "## Observations"
      ],
      "metadata": {
        "id": "XXlZYge7a_3L"
      }
    },
    {
      "cell_type": "markdown",
      "source": [
        "*   Shared room availabilty: Shared room have a higher availability (162) comppared to the other room types.\n",
        "\n",
        "*   Comparable availability: Entire home/apt and private rooms have similar availability, around 110.\n",
        "\n",
        "*   Room type impact: Room type influence availability, with share room being more available.\n",
        "\n",
        "*   Booking Consedration: Guest seeking shared rooms have more options throughout the year, while booking in advance maybe necessary for entire home/apt. and pvt. rooms.\n",
        "\n",
        "These insight highlight the difference in availability based on room types, with shared rooms being more readily available the need for advanced booking for entire home/apt and private rooms.\n",
        "\n",
        "\n",
        "\n"
      ],
      "metadata": {
        "id": "-0zuD47wbCPk"
      }
    },
    {
      "cell_type": "markdown",
      "source": [
        "#### Chart - 8"
      ],
      "metadata": {
        "id": "BZR9WyysphqO"
      }
    },
    {
      "cell_type": "code",
      "source": [
        "# Chart - 8 visualization code\n",
        "# Group by neighbourhood group and calculate the mean of price\n",
        "grouped = df.groupby('neighbourhood_group')['price'].mean().reset_index()\n",
        "# Sort the data by average 'price' in descending order\n",
        "grouped = grouped.sort_values(by = 'price', ascending = False)\n",
        "# create a bar plot to visulaize the average 'price' by 'neighbourhood_group'\n",
        "plt.figure(figsize=(10,3))\n",
        "sns.barplot(data= grouped, x = 'price', y = 'neighbourhood_group', orient= 'horizontal')\n",
        "plt.title =('Average Price By Neighbourhood Group')\n",
        "plt.xlabel('Average Price')\n",
        "plt.ylabel('Neighbourhood Group')\n",
        "# Display the Chart\n",
        "plt.show()"
      ],
      "metadata": {
        "id": "TdPTWpAVphqO"
      },
      "execution_count": null,
      "outputs": []
    },
    {
      "cell_type": "markdown",
      "source": [
        "## Observations"
      ],
      "metadata": {
        "id": "Xbxn9yEtubd3"
      }
    },
    {
      "cell_type": "markdown",
      "source": [
        "\n",
        "\n",
        "*   Price for AirBnb listings vary significantly across neighbourhood groups. Manhattan has highest average price, followed by Staten Island, Brooklyn, Queens and Bronx.\n",
        "\n",
        "*   Manhattan and Brooklyn are the most popular choices for AirBnb, with a large number of listings in both the area. Queens, Bronx and Staten Island has fewer listings compared to Manhattan and Brooklyn.\n",
        "\n",
        "*   The bar plot visually shows the price differences, helping users make informed decisions about their accomodation based on their budget and preferences.\n",
        "\n",
        "\n",
        "\n"
      ],
      "metadata": {
        "id": "dIKwsS4euddn"
      }
    },
    {
      "cell_type": "markdown",
      "source": [
        "#### Chart - 9"
      ],
      "metadata": {
        "id": "YJ55k-q6phqO"
      }
    },
    {
      "cell_type": "code",
      "source": [
        "# Chart - 9 visualization code\n",
        "# pie chart on base of minimum nights and neighbourhood group\n",
        "# group by the 'neighbourhood_group' and calculate the mean of 'minimum nights'\n",
        "plt.figure(figsize=(10,8))\n",
        "explode = (0.05,0.05,0.05,0.05,0.05) #explode the slice by radius\n",
        "df.groupby(df.neighbourhood_group).mean()['minimum_nights'].plot(kind='pie', figsize=(8,6),startangle=90, autopct='%.3f',shadow=True, explode = explode)\n",
        "plt.ylabel('')# just let this empty for sizing\n",
        "# display the chart\n",
        "plt.show()"
      ],
      "metadata": {
        "id": "B2aS4O1ophqO"
      },
      "execution_count": null,
      "outputs": []
    },
    {
      "cell_type": "markdown",
      "source": [
        "# Observations"
      ],
      "metadata": {
        "id": "-hinUIab7a0Z"
      }
    },
    {
      "cell_type": "markdown",
      "source": [
        "\n",
        "\n",
        "*   The average minimum nights required for AirBnb listings varies across different neighbourhood groups in New York City. Manhattan has the highest average minimum nights, followed by Queens, Brooklyn, Staten Island and the Bronx.\n",
        "\n",
        "*   Manhattan has the longest average minimum nights, indicating a preferance for longer stays among visitors in this area. This could be due to the city's attraction and the desire for a more immersive experience.\n",
        "\n",
        "\n",
        "*   Staten Island has the second highest average minimum nights, suggesting that visitors to this neighbourhood group also tend to stay for a relavility longer duration compared to other areas.\n",
        "\n",
        "*   Brooklyn and Queens have similar avarage nights, indictaing visitors t these neighbourhood groups also opt for longer stays, through slightly shorter than those in Manhattan and Staten Island.\n",
        "\n",
        "*   The Bronx has the lowest average minimum nights among all the neighbourhood groups, visitors can consider factors like price, desired length of stay and attractions when selecting their accomodation in New York City.\n",
        "\n",
        "\n",
        "\n",
        "\n"
      ],
      "metadata": {
        "id": "0gewbCoG-Qgc"
      }
    },
    {
      "cell_type": "markdown",
      "source": [
        "#### Chart - 10"
      ],
      "metadata": {
        "id": "U2RJ9gkRphqQ"
      }
    },
    {
      "cell_type": "code",
      "source": [
        "# Chart - 10 visualization code\n",
        "# Scatter plot on minimum nights by price\n",
        "plt.figure(figsize=(10,6))\n",
        "sns.scatterplot(data=df, x='minimum_nights', y='price' )\n",
        "plt.xlabel('Minimum Nights')\n",
        "plt.ylabel('Price')\n",
        "plt.show()"
      ],
      "metadata": {
        "id": "GM7a4YP4phqQ"
      },
      "execution_count": null,
      "outputs": []
    },
    {
      "cell_type": "markdown",
      "source": [
        "## Observations"
      ],
      "metadata": {
        "id": "YQmcVDJgGHW5"
      }
    },
    {
      "cell_type": "markdown",
      "source": [
        "*   Shorter satys (less than 5-6 nights)have varying and discrete prices, indicating price variability.\n",
        "\n",
        "*   Longer stays show a more consistent pricing structure, forming a nearly horizontal line above zero.\n",
        "\n",
        "*   Prices tends to decrease as the number of minimum nights increases, indicating a potential  correlation between stay duration and overall cost.\n",
        "\n",
        "\n",
        "\n"
      ],
      "metadata": {
        "id": "RVmLX5VGG2cU"
      }
    },
    {
      "cell_type": "markdown",
      "source": [
        "#### Chart - 11"
      ],
      "metadata": {
        "id": "x-EpHcCOp1ci"
      }
    },
    {
      "cell_type": "code",
      "source": [
        "# Chart - 11 visualization code\n",
        "# top Hotels as per Review\n",
        "plt.figure(figsize=(10,6))\n",
        "# Sorting Reviews as per Descending Order\n",
        "sorted_data=df.sort_values(by='number_of_reviews', ascending = False)[:30]\n",
        "sns.barplot(x = sorted_data['number_of_reviews'], y = sorted_data['name'],palette='viridis')\n",
        "plt.xlabel('Count')\n",
        "plt.ylabel('New York City AirBnb Hotels')\n",
        "plt.show()"
      ],
      "metadata": {
        "id": "mAQTIvtqp1cj"
      },
      "execution_count": null,
      "outputs": []
    },
    {
      "cell_type": "markdown",
      "source": [
        "## Observations"
      ],
      "metadata": {
        "id": "h1B5FBJ0Irey"
      }
    },
    {
      "cell_type": "markdown",
      "source": [
        "Overall, the barplot highlights the top hotels with the most reviews, showcasing a mix of accomodation in various neighbourhood of New York City. This info can be helpful for travellers looking for highly reviewed option and popular destinations within the city."
      ],
      "metadata": {
        "id": "eMJQFUgSIvAp"
      }
    },
    {
      "cell_type": "markdown",
      "source": [
        "#### Chart - 12"
      ],
      "metadata": {
        "id": "n3dbpmDWp1ck"
      }
    },
    {
      "cell_type": "code",
      "source": [
        "# Chart - 12 visualization code\n",
        "# Barplot host listing group vs price\n",
        "plt.figure(figsize=(10,6))\n",
        "df['host_listings_group']=pd.cut(df['calculated_host_listings_count'],bins=[0,5,10,50,float('inf')])\n",
        "sns.barplot(x='host_listings_group', y='price', data = df)\n",
        "# labels and parameter\n",
        "plt.xlabel('Host Listing Count')\n",
        "plt.ylabel('Price')\n",
        "#Display\n",
        "plt.show()"
      ],
      "metadata": {
        "id": "bwevp1tKp1ck"
      },
      "execution_count": null,
      "outputs": []
    },
    {
      "cell_type": "markdown",
      "source": [
        "## Observations"
      ],
      "metadata": {
        "id": "EUaUepliKEo-"
      }
    },
    {
      "cell_type": "markdown",
      "source": [
        "*   The average price tends to be higher for hosts with a calculated_host_listings_count in the range of 10.0-15.0, approx around 25.0.\n",
        "\n",
        "*   Hosts ith a calculated_host_listings_count in the range of 0.0-5.0 have an average price of approx 160. For hosts with calculated_host_listings_count in the range of 5.0-10.0, the average price is around 100.\n",
        "\n",
        "*   The calculated_host_listings_count range of 15.0-20.0 has a  relatively lower average price, approx 120.\n",
        "\n",
        "\n",
        "\n"
      ],
      "metadata": {
        "id": "Wfatg37IKHKa"
      }
    },
    {
      "cell_type": "markdown",
      "source": [
        "#### Chart - 13"
      ],
      "metadata": {
        "id": "Ag9LCva-p1cl"
      }
    },
    {
      "cell_type": "code",
      "source": [
        "# Chart - 13 visualization code\n",
        "# Longitude VS Latitude VS Price\n",
        "plt.figure(figsize=(10,6))\n",
        "# Set labels\n",
        "plt.scatter(df['longitude'],df['latitude'],df['price'], cmap='virdis', alpha=0.6)\n",
        "plt.colorbar(label='price')\n",
        "plt.xlabel('Longitude')\n",
        "plt.ylabel('Latitude')\n",
        "#display the chart\n",
        "plt.show()"
      ],
      "metadata": {
        "id": "EUfxeq9-p1cl"
      },
      "execution_count": null,
      "outputs": []
    },
    {
      "cell_type": "markdown",
      "source": [
        "## Observations"
      ],
      "metadata": {
        "id": "ziEKMq0SJ8Uz"
      }
    },
    {
      "cell_type": "markdown",
      "source": [
        "*   Dense Concentrations: There is a denser concentraation of data points within the latitude range of -74.0 to -73.9. This indicate the higher density of AirBnb listing in this specific region.\n",
        "\n",
        "*   Rising Trend: As we move from left to right in the chart within the specified region, there is a risisng trend. This suggests that properties located towards the eastern part of the region tend to have longer minimum saty requirements.\n",
        "\n",
        "*   Higher Minimum Nights: Within the concentrated region, the majority of data points exhibit higher minimum stay requirements.\n",
        "\n",
        "*   Sparse Data and Lower Minimum Nights Outside the Region: Outside the specified latitude and longitude range, there a fewer data points, indicating a lower density of AirBnb listings. Additionally, the minimum night to be tend to be lower in these area compared to the concentrated region.\n",
        "\n",
        "\n",
        "\n"
      ],
      "metadata": {
        "id": "Z14YSGc8OkmB"
      }
    },
    {
      "cell_type": "markdown",
      "source": [
        "#### Chart - 14 - Correlation Heatmap"
      ],
      "metadata": {
        "id": "NC_X3p0fY2L0"
      }
    },
    {
      "cell_type": "code",
      "source": [
        "# Correlation Heatmap visualization code\n",
        "plt.figure(figsize=(10,6))\n",
        "# Labeling\n",
        "sns.heatmap(df[['price','minimum_nights', 'availability_365']].corr(), annot=True)\n",
        "plt.show()"
      ],
      "metadata": {
        "id": "xyC9zolEZNRQ"
      },
      "execution_count": null,
      "outputs": []
    },
    {
      "cell_type": "code",
      "source": [
        "# Values as per chart \\\n",
        "df[['price','minimum_nights','availability_365']].corr().head().style.background_gradient(cmap='Oranges')"
      ],
      "metadata": {
        "id": "qxkztwC5q9F2"
      },
      "execution_count": null,
      "outputs": []
    },
    {
      "cell_type": "markdown",
      "source": [
        "## Observations"
      ],
      "metadata": {
        "id": "eGkTD-u4r3zv"
      }
    },
    {
      "cell_type": "markdown",
      "source": [
        "Overall, from the above heatmap reveals the mix of week positive and negative correlations among the variables. It suggests that the number of reviews and review rate per month have the srongest relationship among the variables, while the variables, while the other variables have weaker or negligible correlations with each other."
      ],
      "metadata": {
        "id": "FI7oZvzir9gW"
      }
    },
    {
      "cell_type": "markdown",
      "source": [
        "#### Chart - 15 - Pair plot"
      ],
      "metadata": {
        "id": "jSLc0aMwdmdc"
      }
    },
    {
      "cell_type": "code",
      "source": [
        "# Pair Plot Visualization code\n",
        "sns.pairplot(df)"
      ],
      "metadata": {
        "id": "jT0zlD60dxJ6"
      },
      "execution_count": null,
      "outputs": []
    },
    {
      "cell_type": "markdown",
      "source": [
        "## **5. Solution to Business Objective**"
      ],
      "metadata": {
        "id": "JcMwzZxoAimU"
      }
    },
    {
      "cell_type": "markdown",
      "source": [
        "#### What do you suggest the client to achieve Business Objective ?\n",
        "Explain Briefly."
      ],
      "metadata": {
        "id": "8G2x9gOozGDZ"
      }
    },
    {
      "cell_type": "markdown",
      "source": [
        "Answer Here."
      ],
      "metadata": {
        "id": "pASKb0qOza21"
      }
    },
    {
      "cell_type": "markdown",
      "source": [
        "# **Conclusion**"
      ],
      "metadata": {
        "id": "gCX9965dhzqZ"
      }
    },
    {
      "cell_type": "markdown",
      "source": [
        "Write the conclusion here."
      ],
      "metadata": {
        "id": "Fjb1IsQkh3yE"
      }
    },
    {
      "cell_type": "markdown",
      "source": [
        "### ***Hurrah! You have successfully completed your EDA Capstone Project !!!***"
      ],
      "metadata": {
        "id": "gIfDvo9L0UH2"
      }
    }
  ]
}